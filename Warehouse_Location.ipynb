{
  "nbformat": 4,
  "nbformat_minor": 0,
  "metadata": {
    "colab": {
      "provenance": [],
      "authorship_tag": "ABX9TyOuWrRSK1HJQ5QRr7c9AcVi",
      "include_colab_link": true
    },
    "kernelspec": {
      "name": "python3",
      "display_name": "Python 3"
    },
    "language_info": {
      "name": "python"
    }
  },
  "cells": [
    {
      "cell_type": "markdown",
      "metadata": {
        "id": "view-in-github",
        "colab_type": "text"
      },
      "source": [
        "<a href=\"https://colab.research.google.com/github/nathalia-acordi/warehouse-location/blob/main/Warehouse_Location.ipynb\" target=\"_parent\"><img src=\"https://colab.research.google.com/assets/colab-badge.svg\" alt=\"Open In Colab\"/></a>"
      ]
    },
    {
      "cell_type": "code",
      "execution_count": null,
      "metadata": {
        "id": "YxBfOO8_XwA6"
      },
      "outputs": [],
      "source": [
        "!pip install -qq pyomo\n",
        "!apt-get install -y -qq glpk-utils"
      ]
    },
    {
      "cell_type": "code",
      "source": [
        "from pyomo.environ import *\n",
        "\n",
        "I = [0, 1, 2, 3]  # Exemplos de armazéns\n",
        "J = [0, 1, 2, 3, 4]  # Exemplos de clientes\n",
        "\n",
        "f = [1000, 1500, 2000, 1200]  # Custos fixos para abrir cada armazém (incluindo o novo armazém)\n",
        "c = [\n",
        "    [2, 4, 5, 3, 6],  # Custos de envio de cada armazém para cada cliente (incluindo o novo armazém)\n",
        "    [3, 2, 3, 2, 4],\n",
        "    [4, 3, 2, 1, 5],\n",
        "    [3, 4, 3, 2, 3],  # Custos de envio de cada armazém para cada cliente (incluindo o novo armazém)\n",
        "]\n",
        "d = [80, 270, 250, 160, 180]  # Demanda de cada cliente (incluindo o novo cliente)\n",
        "C = [500, 500, 500, 600]  # Capacidade de cada armazém (incluindo a capacidade do novo armazém)\n",
        "\n",
        "# Criar o modelo de otimização\n",
        "model = ConcreteModel()\n",
        "\n",
        "# Variáveis de decisão\n",
        "model.y = Var(I, within=Binary)\n",
        "model.x = Var(I, J, within=Binary)\n",
        "\n",
        "# Função objetivo\n",
        "model.obj = Objective(expr=sum(f[i] * model.y[i] for i in I) +\n",
        "                         sum(c[i][j] * model.x[i, j] for i in I for j in J),\n",
        "                      sense=minimize)\n",
        "\n",
        "# Restrições\n",
        "model.demand_constraint = ConstraintList()\n",
        "for j in J:\n",
        "    model.demand_constraint.add(sum(model.x[i, j] for i in I) == 1)\n",
        "\n",
        "model.capacity_constraint = ConstraintList()\n",
        "for i in I:\n",
        "    model.capacity_constraint.add(sum(d[j] * model.x[i, j] for j in J) <= C[i] * model.y[i])\n",
        "\n",
        "# Resolver o problema\n",
        "solver = SolverFactory('glpk')\n",
        "results = solver.solve(model)\n",
        "\n",
        "# Imprimir resultados\n",
        "print(results)\n",
        "print(\"Status:\", results.solver.status)\n",
        "print(\"Termination Condition:\", results.solver.termination_condition)\n",
        "\n",
        "print(\"Custo Total =\", model.obj())\n",
        "for i in I:\n",
        "    print(\"Armazém\", i, \"está\", \"aberto\" if model.y[i].value == 1 else \"fechado\")\n",
        "    for j in J:\n",
        "        if model.x[i, j].value == 1:\n",
        "            print(\"  Cliente\", j, \"é atendido pelo armazém\", i)\n"
      ],
      "metadata": {
        "id": "FLgG8OaRX2GL"
      },
      "execution_count": null,
      "outputs": []
    }
  ]
}